{
 "cells": [
  {
   "cell_type": "markdown",
   "metadata": {},
   "source": [
    "# GPyOpt Optimizer"
   ]
  },
  {
   "cell_type": "code",
   "execution_count": 1,
   "metadata": {
    "collapsed": true,
    "jupyter": {
     "outputs_hidden": true
    }
   },
   "outputs": [
    {
     "name": "stdout",
     "output_type": "stream",
     "text": [
      "Collecting gpyopt\n",
      "  Using cached GPyOpt-1.2.6.tar.gz (56 kB)\n",
      "Requirement already satisfied: numpy>=1.7 in /Users/guidosidoni/opt/anaconda3/lib/python3.7/site-packages (from gpyopt) (1.18.1)\n",
      "Requirement already satisfied: scipy>=0.16 in /Users/guidosidoni/opt/anaconda3/lib/python3.7/site-packages (from gpyopt) (1.4.1)\n",
      "Collecting GPy>=1.8\n",
      "  Downloading GPy-1.9.9-cp37-cp37m-macosx_10_9_x86_64.whl (1.5 MB)\n",
      "\u001b[K     |████████████████████████████████| 1.5 MB 5.0 MB/s eta 0:00:01\n",
      "\u001b[?25hCollecting paramz>=0.9.0\n",
      "  Downloading paramz-0.9.5.tar.gz (71 kB)\n",
      "\u001b[K     |████████████████████████████████| 71 kB 4.2 MB/s eta 0:00:011\n",
      "\u001b[?25hRequirement already satisfied: six in /Users/guidosidoni/opt/anaconda3/lib/python3.7/site-packages (from GPy>=1.8->gpyopt) (1.14.0)\n",
      "Requirement already satisfied: decorator>=4.0.10 in /Users/guidosidoni/opt/anaconda3/lib/python3.7/site-packages (from paramz>=0.9.0->GPy>=1.8->gpyopt) (4.4.1)\n",
      "Building wheels for collected packages: gpyopt, paramz\n",
      "  Building wheel for gpyopt (setup.py) ... \u001b[?25ldone\n",
      "\u001b[?25h  Created wheel for gpyopt: filename=GPyOpt-1.2.6-py3-none-any.whl size=83622 sha256=5deabd07cc07913e542431b27f55f3da32cfb43b532e41777e0c2678de524ecb\n",
      "  Stored in directory: /Users/guidosidoni/Library/Caches/pip/wheels/e6/fa/d1/f9652b5af79f769a0ab74dbead7c7aea9a93c6bc74543fd3ec\n",
      "  Building wheel for paramz (setup.py) ... \u001b[?25ldone\n",
      "\u001b[?25h  Created wheel for paramz: filename=paramz-0.9.5-py3-none-any.whl size=102549 sha256=c4a626d49d389054cd405f4144d4a9ebea4ca51afcd0008eb19a6e4790ea447e\n",
      "  Stored in directory: /Users/guidosidoni/Library/Caches/pip/wheels/c8/95/f5/ce28482da28162e6028c4b3a32c41d147395825b3cd62bc810\n",
      "Successfully built gpyopt paramz\n",
      "Installing collected packages: paramz, GPy, gpyopt\n",
      "Successfully installed GPy-1.9.9 gpyopt-1.2.6 paramz-0.9.5\n"
     ]
    }
   ],
   "source": [
    "! pip install gpyopt"
   ]
  },
  {
   "cell_type": "code",
   "execution_count": 6,
   "metadata": {},
   "outputs": [],
   "source": [
    "from core.trade_service.traders.MA_Trader import MA_Trader\n",
    "from core.analitics.basic_plots import plot_line_buysell, to_pandas\n",
    "from datetime import timedelta, datetime\n",
    "import numpy as np\n",
    "import pandas as pd\n",
    "import GPyOpt"
   ]
  },
  {
   "cell_type": "code",
   "execution_count": 4,
   "metadata": {},
   "outputs": [],
   "source": [
    "%load_ext autoreload\n",
    "%autoreload 2"
   ]
  },
  {
   "cell_type": "code",
   "execution_count": 49,
   "metadata": {},
   "outputs": [],
   "source": [
    "bounds = [\n",
    "    {'name': 'period_short',\n",
    "     'type': 'discrete',\n",
    "     'domain': range(1,20)},\n",
    "\n",
    "    {'name': 'period_long',\n",
    "     'type': 'discrete',\n",
    "     'domain': range(15, 40)},\n",
    "\n",
    "    {'name': 'panic',\n",
    "     'type': 'continuous',\n",
    "     'domain': (0, 0.1)}\n",
    "]"
   ]
  },
  {
   "cell_type": "code",
   "execution_count": 50,
   "metadata": {},
   "outputs": [],
   "source": [
    "def f(parameters):\n",
    "    parameters = parameters[0]\n",
    "    print(parameters)\n",
    "    model = MA_Trader(mode='sim',\n",
    "                     period_short=int(parameters[0]),\n",
    "                     period_long=int(parameters[1]),\n",
    "                     panic= -parameters[2],\n",
    "                     interval_group='1h', \n",
    "                     interval_source='1h',\n",
    "                     start_time=datetime.fromisoformat('2020-01-01')\n",
    "                     )\n",
    "\n",
    "    model.evaluate()\n",
    "\n",
    "    return -model.score(1,1)"
   ]
  },
  {
   "cell_type": "code",
   "execution_count": 51,
   "metadata": {},
   "outputs": [
    {
     "name": "stdout",
     "output_type": "stream",
     "text": [
      "[8.00000000e+00 3.50000000e+01 2.69205066e-02]\n",
      "[16.         22.          0.06440293]\n",
      "[7.00000000e+00 2.90000000e+01 9.33732568e-03]\n",
      "[1.80000000e+01 3.90000000e+01 7.96858856e-03]\n",
      "[ 8.         22.          0.05896138]\n"
     ]
    }
   ],
   "source": [
    "np.random.seed(777)\n",
    "optimizer = GPyOpt.methods.BayesianOptimization(\n",
    "    f=f, \n",
    "    domain=bounds,\n",
    "    acquisition_type ='MPI',\n",
    "    acquisition_par = 0.1,\n",
    "    exact_eval=True\n",
    ")"
   ]
  },
  {
   "cell_type": "code",
   "execution_count": 52,
   "metadata": {},
   "outputs": [
    {
     "name": "stdout",
     "output_type": "stream",
     "text": [
      "[16.         22.          0.08536115]\n",
      "[16.         22.          0.07413443]\n",
      "[17.         22.          0.07383891]\n",
      "[16.         21.          0.07403972]\n",
      "[16.         23.          0.07808654]\n",
      "[16.         23.          0.07839002]\n",
      "[16.         23.          0.07857719]\n",
      "[16.         23.          0.07867973]\n",
      "[16.         23.          0.07877073]\n",
      "[16.        23.         0.0788478]\n",
      "[16.         23.          0.07890806]\n",
      "[16.         23.          0.07899208]\n",
      "[16.         23.          0.07898435]\n",
      "[16.         23.          0.07901872]\n",
      "[16.         23.          0.07905176]\n",
      "[16.         23.          0.07916382]\n",
      "[16.         23.          0.07930728]\n",
      "[16.         23.          0.07885877]\n",
      "[16.         23.          0.07905536]\n",
      "[16.         23.          0.07914551]\n",
      "[16.         23.          0.07997037]\n",
      "[16.         23.          0.07913746]\n",
      "[16.         23.          0.07918399]\n",
      "[16.         23.          0.07920796]\n",
      "[16.         23.          0.07920652]\n",
      "[16.         23.          0.07922925]\n",
      "[16.         23.          0.07927951]\n",
      "[16.         23.          0.07876826]\n",
      "[16.         23.          0.07930383]\n",
      "[16.         23.          0.07908651]\n",
      "[16.        23.         0.0793528]\n",
      "[16.         23.          0.07934123]\n",
      "[16.         23.          0.07901913]\n",
      "[16.         23.          0.07940812]\n",
      "[16.         23.          0.07767643]\n",
      "[16.        23.         0.0783777]\n",
      "[16.        23.         0.0779107]\n",
      "[16.         23.          0.07898766]\n",
      "[16.         23.          0.07899531]\n"
     ]
    }
   ],
   "source": [
    "max_iter = 50\n",
    "max_time = 1000\n",
    "optimizer.run_optimization(max_iter, max_time)"
   ]
  },
  {
   "cell_type": "code",
   "execution_count": 53,
   "metadata": {},
   "outputs": [
    {
     "data": {
      "image/png": "[encoded data removed]",
      "text/plain": [
       "<Figure size 720x360 with 2 Axes>"
      ]
     },
     "metadata": {
      "needs_background": "light"
     },
     "output_type": "display_data"
    }
   ],
   "source": [
    "optimizer.plot_convergence()"
   ]
  },
  {
   "cell_type": "code",
   "execution_count": 54,
   "metadata": {},
   "outputs": [
    {
     "data": {
      "text/plain": [
       "array([16.        , 23.        ,  0.07808654])"
      ]
     },
     "execution_count": 54,
     "metadata": {},
     "output_type": "execute_result"
    }
   ],
   "source": [
    "optimizer.X[np.argmin(optimizer.Y)]"
   ]
  },
  {
   "cell_type": "code",
   "execution_count": 63,
   "metadata": {},
   "outputs": [
    {
     "data": {
      "text/plain": [
       "86.98974021393038"
      ]
     },
     "execution_count": 63,
     "metadata": {},
     "output_type": "execute_result"
    }
   ],
   "source": [
    "model = MA_Trader(mode='sim',interval_group='1h', interval_source='1h', period_short=16,period_long=23,panic=-.078,start_time=datetime.fromisoformat('2020-01-01'))\n",
    "model.evaluate()\n",
    "model.score(1,1)"
   ]
  },
  {
   "cell_type": "code",
   "execution_count": 65,
   "metadata": {},
   "outputs": [
    {
     "data": {
      "text/plain": [
       "100.47557409855013"
      ]
     },
     "execution_count": 65,
     "metadata": {},
     "output_type": "execute_result"
    }
   ],
   "source": [
    "model = MA_Trader(mode='sim',interval_group='1h', interval_source='1h', period_short=14,period_long=25,panic=-.03,start_time=datetime.fromisoformat('2020-01-01'))\n",
    "model.evaluate()\n",
    "model.score(1,1)"
   ]
  },
  {
   "cell_type": "code",
   "execution_count": null,
   "metadata": {},
   "outputs": [],
   "source": []
  }
 ],
 "metadata": {
  "kernelspec": {
   "display_name": "CryptoTrade",
   "language": "python",
   "name": "cryptotrade"
  },
  "language_info": {
   "codemirror_mode": {
    "name": "ipython",
    "version": 3
   },
   "file_extension": ".py",
   "mimetype": "text/x-python",
   "name": "python",
   "nbconvert_exporter": "python",
   "pygments_lexer": "ipython3",
   "version": "3.7.6"
  }
 },
 "nbformat": 4,
 "nbformat_minor": 4
}
