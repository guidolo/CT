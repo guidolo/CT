{
 "cells": [
  {
   "cell_type": "markdown",
   "metadata": {},
   "source": [
    "# GET DATA"
   ]
  },
  {
   "cell_type": "code",
   "execution_count": 5,
   "metadata": {},
   "outputs": [],
   "source": [
    "import pandas as pd\n",
    "import math\n",
    "import os.path\n",
    "import time\n",
    "from binance.client import Client\n",
    "from datetime import timedelta, datetime\n",
    "from dateutil import parser\n",
    "from tqdm import tqdm_notebook #(Optional, used for progress-bars)\n",
    "import json"
   ]
  },
  {
   "cell_type": "code",
   "execution_count": 27,
   "metadata": {},
   "outputs": [],
   "source": [
    "with open('secrets/binance.secrets','r') as f:\n",
    "    secrets = json.loads(f.read())"
   ]
  },
  {
   "cell_type": "code",
   "execution_count": 33,
   "metadata": {},
   "outputs": [],
   "source": [
    "binance_client = Client(api_key=secrets['api_key'], api_secret=secrets['api_secret'])"
   ]
  },
  {
   "cell_type": "code",
   "execution_count": 40,
   "metadata": {},
   "outputs": [],
   "source": [
    "binsizes = {\"1m\": 1, \"15m\":15, \"5m\": 5, \"1h\": 60, \"1d\": 1440}"
   ]
  },
  {
   "cell_type": "code",
   "execution_count": 37,
   "metadata": {},
   "outputs": [],
   "source": [
    "def minutes_of_new_data(symbol, time_interval, data):\n",
    "    if len(data) > 0:  \n",
    "        old = parser.parse(data[\"timestamp\"].iloc[-1])\n",
    "    else:\n",
    "        old = datetime.strptime('1 Jan 2019', '%d %b %Y')\n",
    "        \n",
    "    new = pd.to_datetime(binance_client.get_klines(symbol=symbol, interval=time_interval)[-1][0], unit='ms')\n",
    "    return old, new\n",
    "\n",
    "def get_all_binance(symbol, time_interval, save = False):\n",
    "    filename = 'data/%s-%s-data.csv' % (symbol, time_interval)\n",
    "    if os.path.isfile(filename): \n",
    "        data_df = pd.read_csv(filename)\n",
    "    else: \n",
    "        data_df = pd.DataFrame()\n",
    "        \n",
    "    oldest_point, newest_point = minutes_of_new_data(symbol, time_interval, data_df)\n",
    "    delta_min = (newest_point - oldest_point).total_seconds()/60\n",
    "    available_data = math.ceil(delta_min/binsizes[time_interval])\n",
    "    \n",
    "    if oldest_point == datetime.strptime('1 Jan 2019', '%d %b %Y'): \n",
    "        print('Downloading all available %s data for %s. Be patient..!' % (time_interval, symbol))\n",
    "    else: \n",
    "        print('Downloading %d minutes of new data available for %s, i.e. %d instances of %s data.' % (delta_min, symbol, available_data, time_interval))\n",
    "    binance_response = binance_client.get_historical_klines(symbol, \n",
    "                                                  time_interval, \n",
    "                                                  oldest_point.strftime(\"%d %b %Y %H:%M:%S\"), \n",
    "                                                  newest_point.strftime(\"%d %b %Y %H:%M:%S\"))\n",
    "    data = pd.DataFrame(binance_response, \n",
    "                        columns = ['timestamp', 'open', 'high', 'low', 'close', 'volume', 'close_time', 'quote_av', 'trades', 'tb_base_av', 'tb_quote_av', 'ignore' ])\n",
    "    data['timestamp'] = pd.to_datetime(data['timestamp'], unit='ms')\n",
    "    if len(data_df) > 0:\n",
    "        data_df = data_df.append(data)\n",
    "    else: \n",
    "        data_df = data\n",
    "    data_df.set_index('timestamp', inplace=True)\n",
    "    if save: \n",
    "        data_df.to_csv(filename)\n",
    "    print('All caught up..!')\n",
    "    return data_df"
   ]
  },
  {
   "cell_type": "code",
   "execution_count": 38,
   "metadata": {},
   "outputs": [
    {
     "name": "stdout",
     "output_type": "stream",
     "text": [
      "Downloading 2020320 minutes of new data available for BTCUSDT, i.e. 1403 instances of 1d data.\n",
      "All caught up..!\n"
     ]
    }
   ],
   "source": [
    "_ = get_all_binance('BTCUSDT', '1d', True)"
   ]
  },
  {
   "cell_type": "code",
   "execution_count": 39,
   "metadata": {},
   "outputs": [
    {
     "name": "stdout",
     "output_type": "stream",
     "text": [
      "Downloading 2021340 minutes of new data available for BTCUSDT, i.e. 33689 instances of 1h data.\n",
      "All caught up..!\n"
     ]
    }
   ],
   "source": [
    "_ = get_all_binance('BTCUSDT', '1h', True)"
   ]
  },
  {
   "cell_type": "code",
   "execution_count": 41,
   "metadata": {},
   "outputs": [
    {
     "name": "stdout",
     "output_type": "stream",
     "text": [
      "Downloading 2021385 minutes of new data available for BTCUSDT, i.e. 134759 instances of 15m data.\n",
      "All caught up..!\n"
     ]
    }
   ],
   "source": [
    "_ = get_all_binance('BTCUSDT', '15m', True)"
   ]
  },
  {
   "cell_type": "code",
   "execution_count": 42,
   "metadata": {},
   "outputs": [
    {
     "name": "stdout",
     "output_type": "stream",
     "text": [
      "Downloading 2021395 minutes of new data available for BTCUSDT, i.e. 404279 instances of 5m data.\n",
      "All caught up..!\n"
     ]
    }
   ],
   "source": [
    "_ = get_all_binance('BTCUSDT', '5m', True)"
   ]
  },
  {
   "cell_type": "code",
   "execution_count": null,
   "metadata": {},
   "outputs": [],
   "source": []
  }
 ],
 "metadata": {
  "kernelspec": {
   "display_name": "Python 3",
   "language": "python",
   "name": "python3"
  },
  "language_info": {
   "codemirror_mode": {
    "name": "ipython",
    "version": 3
   },
   "file_extension": ".py",
   "mimetype": "text/x-python",
   "name": "python",
   "nbconvert_exporter": "python",
   "pygments_lexer": "ipython3",
   "version": "3.7.6"
  }
 },
 "nbformat": 4,
 "nbformat_minor": 4
}
