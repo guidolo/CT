{
 "cells": [
  {
   "cell_type": "code",
   "execution_count": 28,
   "metadata": {},
   "outputs": [],
   "source": [
    "from core.trade_service.instruments.moving_averages import MA"
   ]
  },
  {
   "cell_type": "code",
   "execution_count": 4,
   "metadata": {},
   "outputs": [],
   "source": [
    "import pandas as pd"
   ]
  },
  {
   "cell_type": "code",
   "execution_count": 5,
   "metadata": {},
   "outputs": [],
   "source": [
    "data = pd.read_csv('../data/BTCUSDT-1h-data.csv')"
   ]
  },
  {
   "cell_type": "code",
   "execution_count": 57,
   "metadata": {},
   "outputs": [],
   "source": [
    "#features from japan\n",
    "data['close_delta_change_lag1'] = (data.close - data.close.shift()) * 100 / data.close.shift() \n",
    "data['size_open_close'] = (data.close - data.open)*100 / data.open\n",
    "data['size_high_low'] = (data.high - data.low)*100 / data.low\n",
    "data['open_position'] = (data.open - data.low) / (data.high - data.low)\n",
    "data['close_position'] = (data.close - data.low) / (data.high - data.low)\n",
    "data['ma_14'] = MA('close', 14).evaluate(data)\n",
    "data['ma_25'] = MA('close', 25).evaluate(data)\n",
    "data['ma_cross_14_25'] = data.ma_14 - data.ma_25\n",
    "data['shift_ma_14_lag1'] = (data.ma_14 - data.ma_14.shift()) * 100 / data.ma_14.shift() \n",
    "data['shift_ma_14_lag4'] = (data.ma_14 - data.ma_14.shift(4)) * 100 / data.ma_14.shift() \n",
    "data['shift_ma_14_lag10'] = (data.ma_14 - data.ma_14.shift(10)) * 100 / data.ma_14.shift() \n",
    "data['shift_ma_25_lag1'] = (data.ma_25 - data.ma_25.shift()) * 100 / data.ma_25.shift() \n",
    "data['shift_ma_25_lag4'] = (data.ma_25 - data.ma_25.shift(4)) * 100 / data.ma_25.shift() \n",
    "data['shift_ma_25_lag10'] = (data.ma_25 - data.ma_25.shift(10)) * 100 / data.ma_25.shift() \n",
    "data['close_in_5'] =  (data.close.shift(-5) - data.close) * 100 / data.close\n",
    "data['close_in_5_binary'] =  data.close.shift(-5) > data.close"
   ]
  },
  {
   "cell_type": "code",
   "execution_count": 75,
   "metadata": {},
   "outputs": [],
   "source": [
    "data = data.dropna()"
   ]
  },
  {
   "cell_type": "code",
   "execution_count": 86,
   "metadata": {},
   "outputs": [],
   "source": [
    "from sklearn.neural_network import MLPRegressor, MLPClassifier\n",
    "from sklearn.pipeline import Pipeline\n",
    "from sklearn.preprocessing import StandardScaler\n",
    "from sklearn.model_selection import train_test_split"
   ]
  },
  {
   "cell_type": "code",
   "execution_count": 110,
   "metadata": {},
   "outputs": [],
   "source": [
    "from sklearn.metrics import roc_auc_score\n",
    "import matplotlib.pyplot as plt"
   ]
  },
  {
   "cell_type": "code",
   "execution_count": 99,
   "metadata": {},
   "outputs": [],
   "source": [
    "model = Pipeline([('scaler', StandardScaler()), ('classifier', MLPClassifier((50,10),verbose=1))])"
   ]
  },
  {
   "cell_type": "code",
   "execution_count": 112,
   "metadata": {},
   "outputs": [],
   "source": [
    "np.random.seed(42)\n",
    "train_columns = ['close_delta_change_lag1', 'size_open_close', 'size_high_low',\n",
    "       'close_position', 'open_position', 'ma_cross_14_25',\n",
    "       'shift_ma_14_lag1', 'shift_ma_14_lag4', 'shift_ma_14_lag10',\n",
    "       'shift_ma_25_lag1', 'shift_ma_25_lag4', 'shift_ma_25_lag10']\n",
    "target_binario = 'close_in_5_binary'\n",
    "target_regressor = 'close_in_5'\n",
    "\n",
    "X_train, X_test, y_trainb, y_testb, y_trainr, y_testr = train_test_split(data[train_columns], data[target_binario], data[target_regressor])"
   ]
  },
  {
   "cell_type": "code",
   "execution_count": 113,
   "metadata": {
    "collapsed": true,
    "jupyter": {
     "outputs_hidden": true
    }
   },
   "outputs": [
    {
     "name": "stdout",
     "output_type": "stream",
     "text": [
      "Iteration 1, loss = 0.70138329\n",
      "Iteration 2, loss = 0.68933161\n",
      "Iteration 3, loss = 0.68710732\n",
      "Iteration 4, loss = 0.68508754\n",
      "Iteration 5, loss = 0.68374601\n",
      "Iteration 6, loss = 0.68286112\n",
      "Iteration 7, loss = 0.68219873\n",
      "Iteration 8, loss = 0.68199165\n",
      "Iteration 9, loss = 0.68160990\n",
      "Iteration 10, loss = 0.68095353\n",
      "Iteration 11, loss = 0.68040568\n",
      "Iteration 12, loss = 0.67995695\n",
      "Iteration 13, loss = 0.68019359\n",
      "Iteration 14, loss = 0.67957266\n",
      "Iteration 15, loss = 0.67936775\n",
      "Iteration 16, loss = 0.67900470\n",
      "Iteration 17, loss = 0.67910386\n",
      "Iteration 18, loss = 0.67861686\n",
      "Iteration 19, loss = 0.67940917\n",
      "Iteration 20, loss = 0.67833009\n",
      "Iteration 21, loss = 0.67807849\n",
      "Iteration 22, loss = 0.67785297\n",
      "Iteration 23, loss = 0.67725954\n",
      "Iteration 24, loss = 0.67725653\n",
      "Iteration 25, loss = 0.67679228\n",
      "Iteration 26, loss = 0.67641904\n",
      "Iteration 27, loss = 0.67675115\n",
      "Iteration 28, loss = 0.67659043\n",
      "Iteration 29, loss = 0.67574123\n",
      "Iteration 30, loss = 0.67553552\n",
      "Iteration 31, loss = 0.67497091\n",
      "Iteration 32, loss = 0.67487174\n",
      "Iteration 33, loss = 0.67478249\n",
      "Iteration 34, loss = 0.67483840\n",
      "Iteration 35, loss = 0.67425700\n",
      "Iteration 36, loss = 0.67433832\n",
      "Iteration 37, loss = 0.67410863\n",
      "Iteration 38, loss = 0.67359264\n",
      "Iteration 39, loss = 0.67288480\n",
      "Iteration 40, loss = 0.67329650\n",
      "Iteration 41, loss = 0.67298152\n",
      "Iteration 42, loss = 0.67226687\n",
      "Iteration 43, loss = 0.67248435\n",
      "Iteration 44, loss = 0.67229079\n",
      "Iteration 45, loss = 0.67173219\n",
      "Iteration 46, loss = 0.67124434\n",
      "Iteration 47, loss = 0.67138219\n",
      "Iteration 48, loss = 0.67103908\n",
      "Iteration 49, loss = 0.67090713\n",
      "Iteration 50, loss = 0.67026796\n",
      "Iteration 51, loss = 0.67038920\n",
      "Iteration 52, loss = 0.66987216\n",
      "Iteration 53, loss = 0.66998089\n",
      "Iteration 54, loss = 0.66969360\n",
      "Iteration 55, loss = 0.66974807\n",
      "Iteration 56, loss = 0.66902548\n",
      "Iteration 57, loss = 0.66848369\n",
      "Iteration 58, loss = 0.66827153\n",
      "Iteration 59, loss = 0.66813593\n",
      "Iteration 60, loss = 0.66776712\n",
      "Iteration 61, loss = 0.66748242\n",
      "Iteration 62, loss = 0.66742289\n",
      "Iteration 63, loss = 0.66684806\n",
      "Iteration 64, loss = 0.66771807\n",
      "Iteration 65, loss = 0.66711859\n",
      "Iteration 66, loss = 0.66638876\n",
      "Iteration 67, loss = 0.66610381\n",
      "Iteration 68, loss = 0.66675682\n",
      "Iteration 69, loss = 0.66593393\n",
      "Iteration 70, loss = 0.66588758\n",
      "Iteration 71, loss = 0.66567033\n",
      "Iteration 72, loss = 0.66571991\n",
      "Iteration 73, loss = 0.66628231\n",
      "Iteration 74, loss = 0.66616285\n",
      "Iteration 75, loss = 0.66583533\n",
      "Iteration 76, loss = 0.66482841\n",
      "Iteration 77, loss = 0.66509418\n",
      "Iteration 78, loss = 0.66363343\n",
      "Iteration 79, loss = 0.66372523\n",
      "Iteration 80, loss = 0.66388462\n",
      "Iteration 81, loss = 0.66448147\n",
      "Iteration 82, loss = 0.66338484\n",
      "Iteration 83, loss = 0.66373159\n",
      "Iteration 84, loss = 0.66362314\n",
      "Iteration 85, loss = 0.66271667\n",
      "Iteration 86, loss = 0.66246817\n",
      "Iteration 87, loss = 0.66186734\n",
      "Iteration 88, loss = 0.66246374\n",
      "Iteration 89, loss = 0.66219742\n",
      "Iteration 90, loss = 0.66210092\n",
      "Iteration 91, loss = 0.66227580\n",
      "Iteration 92, loss = 0.66247252\n",
      "Iteration 93, loss = 0.66240826\n",
      "Iteration 94, loss = 0.66071628\n",
      "Iteration 95, loss = 0.66179033\n",
      "Iteration 96, loss = 0.66186590\n",
      "Iteration 97, loss = 0.66204337\n",
      "Iteration 98, loss = 0.66070356\n",
      "Iteration 99, loss = 0.66092273\n",
      "Iteration 100, loss = 0.66074110\n",
      "Iteration 101, loss = 0.66020611\n",
      "Iteration 102, loss = 0.65995704\n",
      "Iteration 103, loss = 0.65974934\n",
      "Iteration 104, loss = 0.66017982\n",
      "Iteration 105, loss = 0.65976810\n",
      "Iteration 106, loss = 0.66074315\n",
      "Iteration 107, loss = 0.66022518\n",
      "Iteration 108, loss = 0.66029086\n",
      "Iteration 109, loss = 0.66043076\n",
      "Iteration 110, loss = 0.65854255\n",
      "Iteration 111, loss = 0.65892391\n",
      "Iteration 112, loss = 0.65913860\n",
      "Iteration 113, loss = 0.66042159\n",
      "Iteration 114, loss = 0.65858330\n",
      "Iteration 115, loss = 0.65856715\n",
      "Iteration 116, loss = 0.65860475\n",
      "Iteration 117, loss = 0.65858568\n",
      "Iteration 118, loss = 0.65804120\n",
      "Iteration 119, loss = 0.65811340\n",
      "Iteration 120, loss = 0.65752810\n",
      "Iteration 121, loss = 0.65777957\n",
      "Iteration 122, loss = 0.65766174\n",
      "Iteration 123, loss = 0.65855954\n",
      "Iteration 124, loss = 0.65750168\n",
      "Iteration 125, loss = 0.65876532\n",
      "Iteration 126, loss = 0.65700905\n",
      "Iteration 127, loss = 0.65741237\n",
      "Iteration 128, loss = 0.65754671\n",
      "Iteration 129, loss = 0.65688087\n",
      "Iteration 130, loss = 0.65654442\n",
      "Iteration 131, loss = 0.65638726\n",
      "Iteration 132, loss = 0.65637135\n",
      "Iteration 133, loss = 0.65684728\n",
      "Iteration 134, loss = 0.65687208\n",
      "Iteration 135, loss = 0.65639257\n",
      "Iteration 136, loss = 0.65601008\n",
      "Iteration 137, loss = 0.65753077\n",
      "Iteration 138, loss = 0.65609915\n",
      "Iteration 139, loss = 0.65555133\n",
      "Iteration 140, loss = 0.65584375\n",
      "Iteration 141, loss = 0.65536584\n",
      "Iteration 142, loss = 0.65544378\n",
      "Iteration 143, loss = 0.65578075\n",
      "Iteration 144, loss = 0.65478914\n",
      "Iteration 145, loss = 0.65528587\n",
      "Iteration 146, loss = 0.65545311\n",
      "Iteration 147, loss = 0.65480803\n",
      "Iteration 148, loss = 0.65488368\n",
      "Iteration 149, loss = 0.65554068\n",
      "Iteration 150, loss = 0.65548515\n",
      "Iteration 151, loss = 0.65431317\n",
      "Iteration 152, loss = 0.65427265\n",
      "Iteration 153, loss = 0.65425027\n",
      "Iteration 154, loss = 0.65460378\n",
      "Iteration 155, loss = 0.65446555\n",
      "Iteration 156, loss = 0.65409721\n",
      "Iteration 157, loss = 0.65384894\n",
      "Iteration 158, loss = 0.65391311\n",
      "Iteration 159, loss = 0.65285346\n",
      "Iteration 160, loss = 0.65396932\n",
      "Iteration 161, loss = 0.65355664\n",
      "Iteration 162, loss = 0.65332657\n",
      "Iteration 163, loss = 0.65332163\n",
      "Iteration 164, loss = 0.65350883\n",
      "Iteration 165, loss = 0.65275355\n",
      "Iteration 166, loss = 0.65331451\n",
      "Iteration 167, loss = 0.65247570\n",
      "Iteration 168, loss = 0.65297794\n",
      "Iteration 169, loss = 0.65245780\n",
      "Iteration 170, loss = 0.65323711\n",
      "Iteration 171, loss = 0.65211989\n",
      "Iteration 172, loss = 0.65171212\n",
      "Iteration 173, loss = 0.65292956\n",
      "Iteration 174, loss = 0.65211904\n",
      "Iteration 175, loss = 0.65178081\n",
      "Iteration 176, loss = 0.65273049\n",
      "Iteration 177, loss = 0.65203551\n",
      "Iteration 178, loss = 0.65143078\n",
      "Iteration 179, loss = 0.65082468\n",
      "Iteration 180, loss = 0.65203585\n",
      "Iteration 181, loss = 0.65150051\n",
      "Iteration 182, loss = 0.65141004\n",
      "Iteration 183, loss = 0.65209826\n",
      "Iteration 184, loss = 0.65147841\n",
      "Iteration 185, loss = 0.65058971\n",
      "Iteration 186, loss = 0.65092808\n",
      "Iteration 187, loss = 0.65013215\n",
      "Iteration 188, loss = 0.64979630\n",
      "Iteration 189, loss = 0.65009092\n",
      "Iteration 190, loss = 0.65071751\n",
      "Iteration 191, loss = 0.65052967\n",
      "Iteration 192, loss = 0.64964860\n",
      "Iteration 193, loss = 0.65042061\n",
      "Iteration 194, loss = 0.65039704\n",
      "Iteration 195, loss = 0.65045265\n",
      "Iteration 196, loss = 0.64995369\n",
      "Iteration 197, loss = 0.64925824\n",
      "Iteration 198, loss = 0.65030227\n",
      "Iteration 199, loss = 0.64847408\n",
      "Iteration 200, loss = 0.64947556\n"
     ]
    },
    {
     "name": "stderr",
     "output_type": "stream",
     "text": [
      "/Users/guidosidoni/opt/anaconda3/envs/CryptoTrade/lib/python3.8/site-packages/sklearn/neural_network/_multilayer_perceptron.py:614: ConvergenceWarning: Stochastic Optimizer: Maximum iterations (200) reached and the optimization hasn't converged yet.\n",
      "  warnings.warn(\n"
     ]
    },
    {
     "data": {
      "text/plain": [
       "Pipeline(steps=[('scaler', StandardScaler()),\n",
       "                ('classifier',\n",
       "                 MLPClassifier(hidden_layer_sizes=(50, 10), verbose=1))])"
      ]
     },
     "execution_count": 113,
     "metadata": {},
     "output_type": "execute_result"
    }
   ],
   "source": [
    "model.fit(X_train, y_train)"
   ]
  },
  {
   "cell_type": "code",
   "execution_count": 114,
   "metadata": {},
   "outputs": [
    {
     "data": {
      "text/plain": [
       "0.5404094269363676"
      ]
     },
     "execution_count": 114,
     "metadata": {},
     "output_type": "execute_result"
    }
   ],
   "source": [
    "roc_auc_score(y_test, model.predict(X_test))"
   ]
  },
  {
   "cell_type": "code",
   "execution_count": 116,
   "metadata": {},
   "outputs": [
    {
     "data": {
      "text/plain": [
       "<matplotlib.collections.PathCollection at 0x7fdaa70867f0>"
      ]
     },
     "execution_count": 116,
     "metadata": {},
     "output_type": "execute_result"
    },
    {
     "data": {
      "image/png": "[encoded data removed]",
      "text/plain": [
       "<Figure size 432x288 with 1 Axes>"
      ]
     },
     "metadata": {
      "needs_background": "light"
     },
     "output_type": "display_data"
    }
   ],
   "source": [
    "plt.scatter(model.predict_proba(X_test)[:,1], y_testr)"
   ]
  },
  {
   "cell_type": "code",
   "execution_count": null,
   "metadata": {},
   "outputs": [],
   "source": []
  }
 ],
 "metadata": {
  "kernelspec": {
   "display_name": "CryptoTrade",
   "language": "python",
   "name": "cryptotrade"
  },
  "language_info": {
   "codemirror_mode": {
    "name": "ipython",
    "version": 3
   },
   "file_extension": ".py",
   "mimetype": "text/x-python",
   "name": "python",
   "nbconvert_exporter": "python",
   "pygments_lexer": "ipython3",
   "version": "3.8.5"
  }
 },
 "nbformat": 4,
 "nbformat_minor": 4
}
