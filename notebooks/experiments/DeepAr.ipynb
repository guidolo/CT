{
 "cells": [
  {
   "cell_type": "code",
   "execution_count": 27,
   "metadata": {},
   "outputs": [],
   "source": [
    "from pts.model.deepar import DeepAREstimator\n",
    "from pts.dataset import ListDataset\n",
    "from pts import Trainer\n",
    "from pts.dataset import to_pandas\n",
    "import matplotlib.pyplot as plt"
   ]
  },
  {
   "cell_type": "code",
   "execution_count": 2,
   "metadata": {},
   "outputs": [],
   "source": [
    "import pandas as pd"
   ]
  },
  {
   "cell_type": "code",
   "execution_count": 20,
   "metadata": {},
   "outputs": [],
   "source": [
    "url = \"https://raw.githubusercontent.com/numenta/NAB/master/data/realTweets/Twitter_volume_AMZN.csv\"\n",
    "df = pd.read_csv(url, header=0, index_col=0, parse_dates=True)"
   ]
  },
  {
   "cell_type": "code",
   "execution_count": 21,
   "metadata": {},
   "outputs": [
    {
     "data": {
      "text/html": [
       "<div>\n",
       "<style scoped>\n",
       "    .dataframe tbody tr th:only-of-type {\n",
       "        vertical-align: middle;\n",
       "    }\n",
       "\n",
       "    .dataframe tbody tr th {\n",
       "        vertical-align: top;\n",
       "    }\n",
       "\n",
       "    .dataframe thead th {\n",
       "        text-align: right;\n",
       "    }\n",
       "</style>\n",
       "<table border=\"1\" class=\"dataframe\">\n",
       "  <thead>\n",
       "    <tr style=\"text-align: right;\">\n",
       "      <th></th>\n",
       "      <th>value</th>\n",
       "    </tr>\n",
       "    <tr>\n",
       "      <th>timestamp</th>\n",
       "      <th></th>\n",
       "    </tr>\n",
       "  </thead>\n",
       "  <tbody>\n",
       "    <tr>\n",
       "      <th>2015-02-26 21:42:53</th>\n",
       "      <td>57</td>\n",
       "    </tr>\n",
       "    <tr>\n",
       "      <th>2015-02-26 21:47:53</th>\n",
       "      <td>43</td>\n",
       "    </tr>\n",
       "    <tr>\n",
       "      <th>2015-02-26 21:52:53</th>\n",
       "      <td>55</td>\n",
       "    </tr>\n",
       "    <tr>\n",
       "      <th>2015-02-26 21:57:53</th>\n",
       "      <td>64</td>\n",
       "    </tr>\n",
       "    <tr>\n",
       "      <th>2015-02-26 22:02:53</th>\n",
       "      <td>93</td>\n",
       "    </tr>\n",
       "    <tr>\n",
       "      <th>...</th>\n",
       "      <td>...</td>\n",
       "    </tr>\n",
       "    <tr>\n",
       "      <th>2015-04-22 20:32:53</th>\n",
       "      <td>51</td>\n",
       "    </tr>\n",
       "    <tr>\n",
       "      <th>2015-04-22 20:37:53</th>\n",
       "      <td>54</td>\n",
       "    </tr>\n",
       "    <tr>\n",
       "      <th>2015-04-22 20:42:53</th>\n",
       "      <td>46</td>\n",
       "    </tr>\n",
       "    <tr>\n",
       "      <th>2015-04-22 20:47:53</th>\n",
       "      <td>56</td>\n",
       "    </tr>\n",
       "    <tr>\n",
       "      <th>2015-04-22 20:52:53</th>\n",
       "      <td>50</td>\n",
       "    </tr>\n",
       "  </tbody>\n",
       "</table>\n",
       "<p>15831 rows × 1 columns</p>\n",
       "</div>"
      ],
      "text/plain": [
       "                     value\n",
       "timestamp                 \n",
       "2015-02-26 21:42:53     57\n",
       "2015-02-26 21:47:53     43\n",
       "2015-02-26 21:52:53     55\n",
       "2015-02-26 21:57:53     64\n",
       "2015-02-26 22:02:53     93\n",
       "...                    ...\n",
       "2015-04-22 20:32:53     51\n",
       "2015-04-22 20:37:53     54\n",
       "2015-04-22 20:42:53     46\n",
       "2015-04-22 20:47:53     56\n",
       "2015-04-22 20:52:53     50\n",
       "\n",
       "[15831 rows x 1 columns]"
      ]
     },
     "execution_count": 21,
     "metadata": {},
     "output_type": "execute_result"
    }
   ],
   "source": [
    "df"
   ]
  },
  {
   "cell_type": "code",
   "execution_count": 4,
   "metadata": {},
   "outputs": [],
   "source": [
    "data = pd.read_csv('CryptoTrade/data/BTCUSDT-1h-data.csv')"
   ]
  },
  {
   "cell_type": "code",
   "execution_count": 6,
   "metadata": {},
   "outputs": [],
   "source": [
    "data.set_index('timestamp', inplace=True)"
   ]
  },
  {
   "cell_type": "code",
   "execution_count": 15,
   "metadata": {},
   "outputs": [],
   "source": [
    "training_data = ListDataset(\n",
    "    [{\"start\": data.index[0], \"target\": data.close[:\"2021-01-01 00:00:00\"]}],\n",
    "    freq = \"1H\"\n",
    ")"
   ]
  },
  {
   "cell_type": "code",
   "execution_count": 25,
   "metadata": {},
   "outputs": [
    {
     "name": "stderr",
     "output_type": "stream",
     "text": [
      "49it [00:26,  1.83it/s, avg_epoch_loss=9.38, epoch=0]\n",
      "49it [00:25,  1.91it/s, avg_epoch_loss=8.33, epoch=1]\n",
      "49it [00:26,  1.82it/s, avg_epoch_loss=7.99, epoch=2]\n",
      "49it [00:25,  1.89it/s, avg_epoch_loss=7.67, epoch=3]\n",
      "49it [00:25,  1.89it/s, avg_epoch_loss=7.57, epoch=4]\n",
      "49it [00:25,  1.89it/s, avg_epoch_loss=7.37, epoch=5]\n",
      "49it [00:26,  1.85it/s, avg_epoch_loss=7.2, epoch=6] \n",
      "49it [00:25,  1.91it/s, avg_epoch_loss=7.1, epoch=7] \n",
      "49it [00:25,  1.92it/s, avg_epoch_loss=7.11, epoch=8]\n",
      "49it [00:25,  1.93it/s, avg_epoch_loss=6.99, epoch=9]\n"
     ]
    }
   ],
   "source": [
    "estimator = DeepAREstimator(freq=\"1H\",\n",
    "                            prediction_length=12,\n",
    "                            input_size=48,\n",
    "                            trainer=Trainer(epochs=10,\n",
    "                                            device='cpu'))\n",
    "predictor = estimator.train(training_data=training_data)"
   ]
  },
  {
   "cell_type": "code",
   "execution_count": 40,
   "metadata": {},
   "outputs": [
    {
     "data": {
      "image/png": "[encoded data removed]",
      "text/plain": [
       "<Figure size 432x288 with 1 Axes>"
      ]
     },
     "metadata": {
      "needs_background": "light"
     },
     "output_type": "display_data"
    }
   ],
   "source": [
    "test_data = ListDataset(\n",
    "    [{\"start\": data.index[0], \"target\": data.close[:\"2021-01-10 00:00:00\"]}],\n",
    "    freq = \"1H\"\n",
    ")\n",
    "\n",
    "for test_entry, forecast in zip(test_data, predictor.predict(test_data)):\n",
    "    to_pandas(test_entry)[-10:].plot(linewidth=2)\n",
    "    forecast.plot(color='g', prediction_intervals=[50.0, 90.0])\n",
    "plt.grid(which='both')"
   ]
  },
  {
   "cell_type": "code",
   "execution_count": 34,
   "metadata": {},
   "outputs": [
    {
     "name": "stderr",
     "output_type": "stream",
     "text": [
      "/Users/guidosidoni/opt/anaconda3/envs/CryptoTrade/lib/python3.8/site-packages/pandas/plotting/_matplotlib/core.py:1192: UserWarning: FixedFormatter should only be used together with FixedLocator\n",
      "  ax.set_xticklabels(xticklabels)\n"
     ]
    },
    {
     "data": {
      "text/plain": [
       "<AxesSubplot:xlabel='timestamp'>"
      ]
     },
     "execution_count": 34,
     "metadata": {},
     "output_type": "execute_result"
    },
    {
     "data": {
      "image/png": "[encoded data removed]",
      "text/plain": [
       "<Figure size 432x288 with 1 Axes>"
      ]
     },
     "metadata": {
      "needs_background": "light"
     },
     "output_type": "display_data"
    }
   ],
   "source": [
    "data.close['2021-01-01':'2021-01-02'].plot()"
   ]
  },
  {
   "cell_type": "code",
   "execution_count": null,
   "metadata": {},
   "outputs": [],
   "source": []
  }
 ],
 "metadata": {
  "kernelspec": {
   "display_name": "Python 3",
   "language": "python",
   "name": "python3"
  },
  "language_info": {
   "codemirror_mode": {
    "name": "ipython",
    "version": 3
   },
   "file_extension": ".py",
   "mimetype": "text/x-python",
   "name": "python",
   "nbconvert_exporter": "python",
   "pygments_lexer": "ipython3",
   "version": "3.8.5"
  }
 },
 "nbformat": 4,
 "nbformat_minor": 4
}
