{
 "cells": [
  {
   "cell_type": "code",
   "execution_count": 4,
   "metadata": {},
   "outputs": [],
   "source": [
    "# IMPORTS\n",
    "import pandas as pd\n",
    "import math\n",
    "import os.path\n",
    "import time\n",
    "#from bitmex import bitmex\n",
    "from binance.client import Client\n",
    "from datetime import timedelta, datetime\n",
    "from dateutil import parser\n",
    "from tqdm import tqdm_notebook #(Optional, used for progress-bars)\n"
   ]
  },
  {
   "cell_type": "code",
   "execution_count": 2,
   "metadata": {},
   "outputs": [],
   "source": [
    "symbol = 'BTCUSDT'\n",
    "kline_size= '1h'\n",
    "\n",
    "### CONSTANTS\n",
    "binsizes = {\"1m\": 1, \"5m\": 5, \"1h\": 60, \"1d\": 1440}\n"
   ]
  },
  {
   "cell_type": "code",
   "execution_count": 7,
   "metadata": {},
   "outputs": [],
   "source": [
    "data = pd.read_csv('./data/BTCUSDT-1h-data.csv').sort_values('timestamp')"
   ]
  },
  {
   "cell_type": "code",
   "execution_count": 4,
   "metadata": {
    "collapsed": true,
    "jupyter": {
     "outputs_hidden": true
    }
   },
   "outputs": [
    {
     "data": {
      "text/html": [
       "<div>\n",
       "<style scoped>\n",
       "    .dataframe tbody tr th:only-of-type {\n",
       "        vertical-align: middle;\n",
       "    }\n",
       "\n",
       "    .dataframe tbody tr th {\n",
       "        vertical-align: top;\n",
       "    }\n",
       "\n",
       "    .dataframe thead th {\n",
       "        text-align: right;\n",
       "    }\n",
       "</style>\n",
       "<table border=\"1\" class=\"dataframe\">\n",
       "  <thead>\n",
       "    <tr style=\"text-align: right;\">\n",
       "      <th></th>\n",
       "      <th>timestamp</th>\n",
       "      <th>open</th>\n",
       "      <th>high</th>\n",
       "      <th>low</th>\n",
       "      <th>close</th>\n",
       "      <th>volume</th>\n",
       "      <th>close_time</th>\n",
       "      <th>quote_av</th>\n",
       "      <th>trades</th>\n",
       "      <th>tb_base_av</th>\n",
       "      <th>tb_quote_av</th>\n",
       "      <th>ignore</th>\n",
       "    </tr>\n",
       "  </thead>\n",
       "  <tbody>\n",
       "    <tr>\n",
       "      <th>0</th>\n",
       "      <td>2017-08-17 04:00:00.000</td>\n",
       "      <td>4261.48</td>\n",
       "      <td>4313.62</td>\n",
       "      <td>4261.32</td>\n",
       "      <td>4308.83</td>\n",
       "      <td>47.181009</td>\n",
       "      <td>1502945999999</td>\n",
       "      <td>2.023661e+05</td>\n",
       "      <td>171</td>\n",
       "      <td>35.160503</td>\n",
       "      <td>1.509525e+05</td>\n",
       "      <td>7887.635513</td>\n",
       "    </tr>\n",
       "    <tr>\n",
       "      <th>492</th>\n",
       "      <td>2017-09-06 23:00:00.000</td>\n",
       "      <td>4619.43</td>\n",
       "      <td>4662.87</td>\n",
       "      <td>4610.00</td>\n",
       "      <td>4619.77</td>\n",
       "      <td>16.743598</td>\n",
       "      <td>1504742399999</td>\n",
       "      <td>7.737911e+04</td>\n",
       "      <td>43</td>\n",
       "      <td>5.618378</td>\n",
       "      <td>2.598381e+04</td>\n",
       "      <td>11138.372786</td>\n",
       "    </tr>\n",
       "    <tr>\n",
       "      <th>3353</th>\n",
       "      <td>2018-01-04 05:00:00.000</td>\n",
       "      <td>15119.97</td>\n",
       "      <td>15119.97</td>\n",
       "      <td>14730.00</td>\n",
       "      <td>14875.10</td>\n",
       "      <td>888.843951</td>\n",
       "      <td>1515045599999</td>\n",
       "      <td>1.321703e+07</td>\n",
       "      <td>7247</td>\n",
       "      <td>467.652514</td>\n",
       "      <td>6.954219e+06</td>\n",
       "      <td>0.000000</td>\n",
       "    </tr>\n",
       "    <tr>\n",
       "      <th>4189</th>\n",
       "      <td>2018-02-09 09:28:14.789</td>\n",
       "      <td>7789.90</td>\n",
       "      <td>8390.00</td>\n",
       "      <td>7789.90</td>\n",
       "      <td>8180.50</td>\n",
       "      <td>1451.896450</td>\n",
       "      <td>1518172094788</td>\n",
       "      <td>1.200715e+07</td>\n",
       "      <td>10103</td>\n",
       "      <td>634.977699</td>\n",
       "      <td>5.240333e+06</td>\n",
       "      <td>0.000000</td>\n",
       "    </tr>\n",
       "    <tr>\n",
       "      <th>4232</th>\n",
       "      <td>2018-02-11 04:00:00.000</td>\n",
       "      <td>7976.74</td>\n",
       "      <td>8098.00</td>\n",
       "      <td>7910.01</td>\n",
       "      <td>7925.49</td>\n",
       "      <td>1055.865537</td>\n",
       "      <td>1518325199999</td>\n",
       "      <td>8.425749e+06</td>\n",
       "      <td>10906</td>\n",
       "      <td>512.684237</td>\n",
       "      <td>4.090583e+06</td>\n",
       "      <td>0.000000</td>\n",
       "    </tr>\n",
       "    <tr>\n",
       "      <th>7470</th>\n",
       "      <td>2018-06-26 12:00:00.000</td>\n",
       "      <td>6228.00</td>\n",
       "      <td>6228.00</td>\n",
       "      <td>6180.00</td>\n",
       "      <td>6209.99</td>\n",
       "      <td>1469.472361</td>\n",
       "      <td>1530017999999</td>\n",
       "      <td>9.123312e+06</td>\n",
       "      <td>9369</td>\n",
       "      <td>720.600044</td>\n",
       "      <td>4.473617e+06</td>\n",
       "      <td>0.000000</td>\n",
       "    </tr>\n",
       "    <tr>\n",
       "      <th>7495</th>\n",
       "      <td>2018-06-27 14:00:00.000</td>\n",
       "      <td>6087.84</td>\n",
       "      <td>6087.84</td>\n",
       "      <td>5971.00</td>\n",
       "      <td>6050.71</td>\n",
       "      <td>900.870997</td>\n",
       "      <td>1530111599999</td>\n",
       "      <td>5.425476e+06</td>\n",
       "      <td>4551</td>\n",
       "      <td>436.935367</td>\n",
       "      <td>2.631775e+06</td>\n",
       "      <td>0.000000</td>\n",
       "    </tr>\n",
       "    <tr>\n",
       "      <th>7650</th>\n",
       "      <td>2018-07-04 08:00:00.000</td>\n",
       "      <td>6481.72</td>\n",
       "      <td>6600.00</td>\n",
       "      <td>6455.20</td>\n",
       "      <td>6524.01</td>\n",
       "      <td>2074.806128</td>\n",
       "      <td>1530694799999</td>\n",
       "      <td>1.355044e+07</td>\n",
       "      <td>10216</td>\n",
       "      <td>965.058047</td>\n",
       "      <td>6.305128e+06</td>\n",
       "      <td>0.000000</td>\n",
       "    </tr>\n",
       "    <tr>\n",
       "      <th>10216</th>\n",
       "      <td>2018-10-19 09:00:00</td>\n",
       "      <td>6588.00</td>\n",
       "      <td>6615.54</td>\n",
       "      <td>6583.00</td>\n",
       "      <td>6600.90</td>\n",
       "      <td>794.121898</td>\n",
       "      <td>1539943199999</td>\n",
       "      <td>5.243315e+06</td>\n",
       "      <td>3679</td>\n",
       "      <td>515.766506</td>\n",
       "      <td>3.405493e+06</td>\n",
       "      <td>0.000000</td>\n",
       "    </tr>\n",
       "    <tr>\n",
       "      <th>10833</th>\n",
       "      <td>2018-11-14 09:00:00</td>\n",
       "      <td>6469.00</td>\n",
       "      <td>6482.84</td>\n",
       "      <td>6410.00</td>\n",
       "      <td>6432.10</td>\n",
       "      <td>989.436938</td>\n",
       "      <td>1542189599999</td>\n",
       "      <td>6.383754e+06</td>\n",
       "      <td>7576</td>\n",
       "      <td>286.563083</td>\n",
       "      <td>1.851145e+06</td>\n",
       "      <td>0.000000</td>\n",
       "    </tr>\n",
       "    <tr>\n",
       "      <th>13658</th>\n",
       "      <td>2019-03-12 08:00:00</td>\n",
       "      <td>3834.69</td>\n",
       "      <td>3885.00</td>\n",
       "      <td>3831.23</td>\n",
       "      <td>3879.66</td>\n",
       "      <td>2763.289039</td>\n",
       "      <td>1552381199999</td>\n",
       "      <td>1.070620e+07</td>\n",
       "      <td>16131</td>\n",
       "      <td>1410.694402</td>\n",
       "      <td>5.465525e+06</td>\n",
       "      <td>0.000000</td>\n",
       "    </tr>\n",
       "    <tr>\n",
       "      <th>15189</th>\n",
       "      <td>2019-05-15 13:00:00</td>\n",
       "      <td>7946.71</td>\n",
       "      <td>8047.00</td>\n",
       "      <td>7850.00</td>\n",
       "      <td>7961.69</td>\n",
       "      <td>2888.136506</td>\n",
       "      <td>1557928799999</td>\n",
       "      <td>2.289966e+07</td>\n",
       "      <td>22003</td>\n",
       "      <td>1418.675418</td>\n",
       "      <td>1.125039e+07</td>\n",
       "      <td>0.000000</td>\n",
       "    </tr>\n",
       "    <tr>\n",
       "      <th>17386</th>\n",
       "      <td>2019-08-15 10:00:00</td>\n",
       "      <td>10085.65</td>\n",
       "      <td>10169.65</td>\n",
       "      <td>9945.86</td>\n",
       "      <td>10059.74</td>\n",
       "      <td>4018.303386</td>\n",
       "      <td>1565866799999</td>\n",
       "      <td>4.053898e+07</td>\n",
       "      <td>36442</td>\n",
       "      <td>1934.173446</td>\n",
       "      <td>1.950734e+07</td>\n",
       "      <td>0.000000</td>\n",
       "    </tr>\n",
       "    <tr>\n",
       "      <th>19538</th>\n",
       "      <td>2019-11-13 04:00:00</td>\n",
       "      <td>8767.01</td>\n",
       "      <td>8767.47</td>\n",
       "      <td>8702.00</td>\n",
       "      <td>8732.97</td>\n",
       "      <td>697.147683</td>\n",
       "      <td>1573621199999</td>\n",
       "      <td>6.088637e+06</td>\n",
       "      <td>7580</td>\n",
       "      <td>286.558990</td>\n",
       "      <td>2.502711e+06</td>\n",
       "      <td>0.000000</td>\n",
       "    </tr>\n",
       "    <tr>\n",
       "      <th>19824</th>\n",
       "      <td>2019-11-25 04:00:00</td>\n",
       "      <td>6717.21</td>\n",
       "      <td>6730.00</td>\n",
       "      <td>6588.69</td>\n",
       "      <td>6640.01</td>\n",
       "      <td>4436.720873</td>\n",
       "      <td>1574657999999</td>\n",
       "      <td>2.960952e+07</td>\n",
       "      <td>36814</td>\n",
       "      <td>1993.606893</td>\n",
       "      <td>1.330395e+07</td>\n",
       "      <td>0.000000</td>\n",
       "    </tr>\n",
       "    <tr>\n",
       "      <th>21646</th>\n",
       "      <td>2020-02-09 03:00:00</td>\n",
       "      <td>9938.86</td>\n",
       "      <td>10052.67</td>\n",
       "      <td>9937.92</td>\n",
       "      <td>10052.63</td>\n",
       "      <td>4894.060253</td>\n",
       "      <td>1581220799999</td>\n",
       "      <td>4.891489e+07</td>\n",
       "      <td>44834</td>\n",
       "      <td>2965.203569</td>\n",
       "      <td>2.963650e+07</td>\n",
       "      <td>0.000000</td>\n",
       "    </tr>\n",
       "    <tr>\n",
       "      <th>21895</th>\n",
       "      <td>2020-02-19 17:00:00</td>\n",
       "      <td>10149.99</td>\n",
       "      <td>10250.00</td>\n",
       "      <td>10133.10</td>\n",
       "      <td>10158.94</td>\n",
       "      <td>4021.115323</td>\n",
       "      <td>1582135199999</td>\n",
       "      <td>4.096466e+07</td>\n",
       "      <td>33684</td>\n",
       "      <td>1933.075921</td>\n",
       "      <td>1.969669e+07</td>\n",
       "      <td>0.000000</td>\n",
       "    </tr>\n",
       "    <tr>\n",
       "      <th>22224</th>\n",
       "      <td>2020-03-04 11:00:00</td>\n",
       "      <td>8795.06</td>\n",
       "      <td>8795.06</td>\n",
       "      <td>8694.07</td>\n",
       "      <td>8717.12</td>\n",
       "      <td>1740.426171</td>\n",
       "      <td>1583323199999</td>\n",
       "      <td>1.518321e+07</td>\n",
       "      <td>21900</td>\n",
       "      <td>810.534331</td>\n",
       "      <td>7.071272e+06</td>\n",
       "      <td>0.000000</td>\n",
       "    </tr>\n",
       "    <tr>\n",
       "      <th>23463</th>\n",
       "      <td>2020-04-25 04:00:00</td>\n",
       "      <td>7480.68</td>\n",
       "      <td>7525.50</td>\n",
       "      <td>7480.68</td>\n",
       "      <td>7518.42</td>\n",
       "      <td>698.281618</td>\n",
       "      <td>1587790799999</td>\n",
       "      <td>5.246063e+06</td>\n",
       "      <td>9033</td>\n",
       "      <td>357.963266</td>\n",
       "      <td>2.688297e+06</td>\n",
       "      <td>0.000000</td>\n",
       "    </tr>\n",
       "    <tr>\n",
       "      <th>24997</th>\n",
       "      <td>2020-06-28 05:00:00</td>\n",
       "      <td>8971.86</td>\n",
       "      <td>8978.91</td>\n",
       "      <td>8961.21</td>\n",
       "      <td>8961.59</td>\n",
       "      <td>587.235891</td>\n",
       "      <td>1593323999999</td>\n",
       "      <td>5.267910e+06</td>\n",
       "      <td>7442</td>\n",
       "      <td>258.764802</td>\n",
       "      <td>2.321782e+06</td>\n",
       "      <td>0.000000</td>\n",
       "    </tr>\n",
       "  </tbody>\n",
       "</table>\n",
       "</div>"
      ],
      "text/plain": [
       "                     timestamp      open      high       low     close  \\\n",
       "0      2017-08-17 04:00:00.000   4261.48   4313.62   4261.32   4308.83   \n",
       "492    2017-09-06 23:00:00.000   4619.43   4662.87   4610.00   4619.77   \n",
       "3353   2018-01-04 05:00:00.000  15119.97  15119.97  14730.00  14875.10   \n",
       "4189   2018-02-09 09:28:14.789   7789.90   8390.00   7789.90   8180.50   \n",
       "4232   2018-02-11 04:00:00.000   7976.74   8098.00   7910.01   7925.49   \n",
       "7470   2018-06-26 12:00:00.000   6228.00   6228.00   6180.00   6209.99   \n",
       "7495   2018-06-27 14:00:00.000   6087.84   6087.84   5971.00   6050.71   \n",
       "7650   2018-07-04 08:00:00.000   6481.72   6600.00   6455.20   6524.01   \n",
       "10216      2018-10-19 09:00:00   6588.00   6615.54   6583.00   6600.90   \n",
       "10833      2018-11-14 09:00:00   6469.00   6482.84   6410.00   6432.10   \n",
       "13658      2019-03-12 08:00:00   3834.69   3885.00   3831.23   3879.66   \n",
       "15189      2019-05-15 13:00:00   7946.71   8047.00   7850.00   7961.69   \n",
       "17386      2019-08-15 10:00:00  10085.65  10169.65   9945.86  10059.74   \n",
       "19538      2019-11-13 04:00:00   8767.01   8767.47   8702.00   8732.97   \n",
       "19824      2019-11-25 04:00:00   6717.21   6730.00   6588.69   6640.01   \n",
       "21646      2020-02-09 03:00:00   9938.86  10052.67   9937.92  10052.63   \n",
       "21895      2020-02-19 17:00:00  10149.99  10250.00  10133.10  10158.94   \n",
       "22224      2020-03-04 11:00:00   8795.06   8795.06   8694.07   8717.12   \n",
       "23463      2020-04-25 04:00:00   7480.68   7525.50   7480.68   7518.42   \n",
       "24997      2020-06-28 05:00:00   8971.86   8978.91   8961.21   8961.59   \n",
       "\n",
       "            volume     close_time      quote_av  trades   tb_base_av  \\\n",
       "0        47.181009  1502945999999  2.023661e+05     171    35.160503   \n",
       "492      16.743598  1504742399999  7.737911e+04      43     5.618378   \n",
       "3353    888.843951  1515045599999  1.321703e+07    7247   467.652514   \n",
       "4189   1451.896450  1518172094788  1.200715e+07   10103   634.977699   \n",
       "4232   1055.865537  1518325199999  8.425749e+06   10906   512.684237   \n",
       "7470   1469.472361  1530017999999  9.123312e+06    9369   720.600044   \n",
       "7495    900.870997  1530111599999  5.425476e+06    4551   436.935367   \n",
       "7650   2074.806128  1530694799999  1.355044e+07   10216   965.058047   \n",
       "10216   794.121898  1539943199999  5.243315e+06    3679   515.766506   \n",
       "10833   989.436938  1542189599999  6.383754e+06    7576   286.563083   \n",
       "13658  2763.289039  1552381199999  1.070620e+07   16131  1410.694402   \n",
       "15189  2888.136506  1557928799999  2.289966e+07   22003  1418.675418   \n",
       "17386  4018.303386  1565866799999  4.053898e+07   36442  1934.173446   \n",
       "19538   697.147683  1573621199999  6.088637e+06    7580   286.558990   \n",
       "19824  4436.720873  1574657999999  2.960952e+07   36814  1993.606893   \n",
       "21646  4894.060253  1581220799999  4.891489e+07   44834  2965.203569   \n",
       "21895  4021.115323  1582135199999  4.096466e+07   33684  1933.075921   \n",
       "22224  1740.426171  1583323199999  1.518321e+07   21900   810.534331   \n",
       "23463   698.281618  1587790799999  5.246063e+06    9033   357.963266   \n",
       "24997   587.235891  1593323999999  5.267910e+06    7442   258.764802   \n",
       "\n",
       "        tb_quote_av        ignore  \n",
       "0      1.509525e+05   7887.635513  \n",
       "492    2.598381e+04  11138.372786  \n",
       "3353   6.954219e+06      0.000000  \n",
       "4189   5.240333e+06      0.000000  \n",
       "4232   4.090583e+06      0.000000  \n",
       "7470   4.473617e+06      0.000000  \n",
       "7495   2.631775e+06      0.000000  \n",
       "7650   6.305128e+06      0.000000  \n",
       "10216  3.405493e+06      0.000000  \n",
       "10833  1.851145e+06      0.000000  \n",
       "13658  5.465525e+06      0.000000  \n",
       "15189  1.125039e+07      0.000000  \n",
       "17386  1.950734e+07      0.000000  \n",
       "19538  2.502711e+06      0.000000  \n",
       "19824  1.330395e+07      0.000000  \n",
       "21646  2.963650e+07      0.000000  \n",
       "21895  1.969669e+07      0.000000  \n",
       "22224  7.071272e+06      0.000000  \n",
       "23463  2.688297e+06      0.000000  \n",
       "24997  2.321782e+06      0.000000  "
      ]
     },
     "execution_count": 4,
     "metadata": {},
     "output_type": "execute_result"
    }
   ],
   "source": [
    "data[~(pd.to_datetime(data.timestamp).diff() == timedelta(hours=1))]"
   ]
  },
  {
   "cell_type": "code",
   "execution_count": 11,
   "metadata": {},
   "outputs": [
    {
     "name": "stdout",
     "output_type": "stream",
     "text": [
      "The autoreload extension is already loaded. To reload it, use:\n",
      "  %reload_ext autoreload\n"
     ]
    }
   ],
   "source": [
    "%load_ext autoreload\n",
    "%autoreload 2"
   ]
  },
  {
   "cell_type": "code",
   "execution_count": 194,
   "metadata": {},
   "outputs": [],
   "source": [
    "from datetime import timedelta, datetime"
   ]
  },
  {
   "cell_type": "code",
   "execution_count": 1,
   "metadata": {},
   "outputs": [],
   "source": [
    "from core.environment.environment import Environment\n",
    "from core.traders.MA_Trader import MA_Trader\n"
   ]
  },
  {
   "cell_type": "code",
   "execution_count": 5,
   "metadata": {},
   "outputs": [],
   "source": [
    "env = Environment(start_time=datetime.fromisoformat('2020-02-01 00:00:00'), \n",
    "                  time_delta='1h'\n",
    "                 )\n"
   ]
  },
  {
   "cell_type": "code",
   "execution_count": 6,
   "metadata": {
    "collapsed": true,
    "jupyter": {
     "outputs_hidden": true
    }
   },
   "outputs": [
    {
     "ename": "NameError",
     "evalue": "name 'UpperLower_trader' is not defined",
     "output_type": "error",
     "traceback": [
      "\u001b[0;31m---------------------------------------------------------------------------\u001b[0m",
      "\u001b[0;31mNameError\u001b[0m                                 Traceback (most recent call last)",
      "\u001b[0;32m<ipython-input-6-5af26a6b53a9>\u001b[0m in \u001b[0;36m<module>\u001b[0;34m\u001b[0m\n\u001b[0;32m----> 1\u001b[0;31m \u001b[0mtr\u001b[0m \u001b[0;34m=\u001b[0m \u001b[0mUpperLower_trader\u001b[0m\u001b[0;34m(\u001b[0m\u001b[0menv\u001b[0m\u001b[0;34m,\u001b[0m \u001b[0mnum_to_buy\u001b[0m\u001b[0;34m=\u001b[0m\u001b[0;36m5\u001b[0m\u001b[0;34m,\u001b[0m \u001b[0mnum_to_sell\u001b[0m\u001b[0;34m=\u001b[0m\u001b[0;36m1\u001b[0m\u001b[0;34m)\u001b[0m\u001b[0;34m\u001b[0m\u001b[0;34m\u001b[0m\u001b[0m\n\u001b[0m",
      "\u001b[0;31mNameError\u001b[0m: name 'UpperLower_trader' is not defined"
     ]
    }
   ],
   "source": [
    "tr = UpperLower_trader(env, num_to_buy=5, num_to_sell=1)"
   ]
  },
  {
   "cell_type": "code",
   "execution_count": 9,
   "metadata": {},
   "outputs": [
    {
     "data": {
      "text/plain": [
       "Index(['timestamp', 'open', 'high', 'low', 'close', 'volume', 'close_time',\n",
       "       'quote_av', 'trades', 'tb_base_av', 'tb_quote_av', 'ignore'],\n",
       "      dtype='object')"
      ]
     },
     "execution_count": 9,
     "metadata": {},
     "output_type": "execute_result"
    }
   ],
   "source": [
    "data.columns"
   ]
  },
  {
   "cell_type": "code",
   "execution_count": 31,
   "metadata": {},
   "outputs": [
    {
     "data": {
      "text/plain": [
       "108"
      ]
     },
     "execution_count": 31,
     "metadata": {},
     "output_type": "execute_result"
    }
   ],
   "source": [
    "env = Environment(start_time=datetime.fromisoformat('2020-02-01 00:00:00'), \n",
    "                  time_delta='1h'\n",
    "                 )\n",
    "\n",
    "tr = MA_Trader(column_name='close', period_long=40, period_short=12, environment=env)\n",
    "tr.evaluate()\n",
    "\n",
    "result_pd = pd.DataFrame(tr.trade_record).T\n",
    "\n",
    "len(result_pd)"
   ]
  },
  {
   "cell_type": "code",
   "execution_count": 109,
   "metadata": {},
   "outputs": [],
   "source": [
    "tr = Point2Point_trader(env)"
   ]
  },
  {
   "cell_type": "code",
   "execution_count": 231,
   "metadata": {},
   "outputs": [
    {
     "data": {
      "text/plain": [
       "6"
      ]
     },
     "execution_count": 231,
     "metadata": {},
     "output_type": "execute_result"
    }
   ],
   "source": [
    "env = Environment(start_time=datetime.fromisoformat('2020-02-01 00:00:00'), \n",
    "                  time_delta='1h'\n",
    "                 )\n",
    "tr = Percentage_trader(environment=env, \n",
    "                       perc_to_buy=0.04, \n",
    "                       window_to_buy= 6,\n",
    "                       perc_to_sell = -0.1,\n",
    "                       window_to_sell= 12\n",
    "                      )\n",
    "tr.evaluate()\n",
    "\n",
    "result_pd = pd.DataFrame(tr.trade_record).T\n",
    "\n",
    "len(result_pd)"
   ]
  },
  {
   "cell_type": "code",
   "execution_count": 237,
   "metadata": {},
   "outputs": [],
   "source": [
    "class tunner():\n",
    "    def __init__(self, model):\n",
    "        self.model = model\n",
    "        \n",
    "    def fit(self, X, y):\n",
    "        self.model.env.restart()\n",
    "        model.evalueate()\n",
    "        return self\n",
    "    \n",
    "    def predict(self, X):\n",
    "        return model.trade_record\n",
    "    \n",
    "    def set_params(self, **kwargs):\n",
    "        model.set_params(**kwargs)\n",
    "        return self\n",
    "    \n",
    "    def get_params(self):\n",
    "        return model.get_params()"
   ]
  },
  {
   "cell_type": "code",
   "execution_count": 32,
   "metadata": {},
   "outputs": [
    {
     "data": {
      "text/plain": [
       "32.58103209707726"
      ]
     },
     "execution_count": 32,
     "metadata": {},
     "output_type": "execute_result"
    }
   ],
   "source": [
    "result_pd.loc[:,'gan'] = result_pd.apply(lambda row: (row.end_price-row.start_price)*100/row.start_price, axis=1)\n",
    "result_pd.dropna(inplace=True)\n",
    "result_pd.gan.sum()"
   ]
  },
  {
   "cell_type": "code",
   "execution_count": null,
   "metadata": {},
   "outputs": [],
   "source": []
  },
  {
   "cell_type": "code",
   "execution_count": 33,
   "metadata": {},
   "outputs": [
    {
     "data": {
      "image/png": "[encoded data removed]",
      "text/plain": [
       "<Figure size 864x360 with 1 Axes>"
      ]
     },
     "metadata": {
      "needs_background": "light"
     },
     "output_type": "display_data"
    }
   ],
   "source": [
    "import matplotlib.pylab as pl\n",
    "\n",
    "tr.env.get_data().close.plot(figsize=(12,5))\n",
    "for init, end in zip(result_pd.start_datetime, result_pd.end_datetime):\n",
    "    pl.axvline(init, color='y')\n",
    "    pl.axvline(end, color='r')"
   ]
  },
  {
   "cell_type": "code",
   "execution_count": 34,
   "metadata": {},
   "outputs": [
    {
     "data": {
      "text/plain": [
       "<matplotlib.axes._subplots.AxesSubplot at 0x7f8d03fb9e50>"
      ]
     },
     "execution_count": 34,
     "metadata": {},
     "output_type": "execute_result"
    },
    {
     "data": {
      "image/png": "[encoded data removed]",
      "text/plain": [
       "<Figure size 432x288 with 1 Axes>"
      ]
     },
     "metadata": {
      "needs_background": "light"
     },
     "output_type": "display_data"
    }
   ],
   "source": [
    "result_pd.gan.hist(bins=100)\n"
   ]
  },
  {
   "cell_type": "code",
   "execution_count": 35,
   "metadata": {},
   "outputs": [
    {
     "data": {
      "text/plain": [
       "<matplotlib.axes._subplots.AxesSubplot at 0x7f8d048f7810>"
      ]
     },
     "execution_count": 35,
     "metadata": {},
     "output_type": "execute_result"
    },
    {
     "data": {
      "image/png": "[encoded data removed]",
      "text/plain": [
       "<Figure size 432x288 with 1 Axes>"
      ]
     },
     "metadata": {
      "needs_background": "light"
     },
     "output_type": "display_data"
    }
   ],
   "source": [
    "result_pd.gan.plot(); plt"
   ]
  },
  {
   "cell_type": "code",
   "execution_count": null,
   "metadata": {},
   "outputs": [],
   "source": []
  }
 ],
 "metadata": {
  "kernelspec": {
   "display_name": "Python 3",
   "language": "python",
   "name": "python3"
  },
  "language_info": {
   "codemirror_mode": {
    "name": "ipython",
    "version": 3
   },
   "file_extension": ".py",
   "mimetype": "text/x-python",
   "name": "python",
   "nbconvert_exporter": "python",
   "pygments_lexer": "ipython3",
   "version": "3.7.6"
  }
 },
 "nbformat": 4,
 "nbformat_minor": 4
}
